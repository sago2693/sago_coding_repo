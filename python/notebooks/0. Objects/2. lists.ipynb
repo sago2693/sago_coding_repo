{
 "cells": [
  {
   "cell_type": "code",
   "execution_count": 1,
   "metadata": {},
   "outputs": [],
   "source": [
    "mylist=['one','two','three']"
   ]
  },
  {
   "cell_type": "code",
   "execution_count": 3,
   "metadata": {},
   "outputs": [
    {
     "output_type": "execute_result",
     "data": {
      "text/plain": "['two', 'three']"
     },
     "metadata": {},
     "execution_count": 3
    }
   ],
   "source": [
    "#Slicing\n",
    "mylist[1:]"
   ]
  },
  {
   "cell_type": "code",
   "execution_count": 4,
   "metadata": {},
   "outputs": [
    {
     "output_type": "execute_result",
     "data": {
      "text/plain": "['one', 'two']"
     },
     "metadata": {},
     "execution_count": 4
    }
   ],
   "source": [
    "mylist[0:2]"
   ]
  },
  {
   "cell_type": "code",
   "execution_count": 5,
   "metadata": {},
   "outputs": [],
   "source": [
    "#Concatenation\n",
    "mylist2 = [\"4\",\"5\",\"6\"]"
   ]
  },
  {
   "cell_type": "code",
   "execution_count": 7,
   "metadata": {},
   "outputs": [],
   "source": [
    "mylist3 = mylist + mylist2"
   ]
  },
  {
   "cell_type": "code",
   "execution_count": 8,
   "metadata": {},
   "outputs": [
    {
     "output_type": "execute_result",
     "data": {
      "text/plain": "['one', 'two', 'three', '4', '5', '6']"
     },
     "metadata": {},
     "execution_count": 8
    }
   ],
   "source": [
    "mylist3"
   ]
  },
  {
   "cell_type": "code",
   "execution_count": 11,
   "metadata": {},
   "outputs": [
    {
     "output_type": "execute_result",
     "data": {
      "text/plain": "['one', 'two', 'three', '4', '5', 'six']"
     },
     "metadata": {},
     "execution_count": 11
    }
   ],
   "source": [
    "#Lists are mutable\n",
    "mylist3[5] = \"six\"\n",
    "mylist3"
   ]
  },
  {
   "cell_type": "markdown",
   "metadata": {},
   "source": [
    "## Methods"
   ]
  },
  {
   "cell_type": "code",
   "execution_count": 12,
   "metadata": {},
   "outputs": [],
   "source": [
    "\n",
    "#Append\n",
    "mylist3.append(\"7\")"
   ]
  },
  {
   "cell_type": "code",
   "execution_count": 13,
   "metadata": {},
   "outputs": [
    {
     "output_type": "execute_result",
     "data": {
      "text/plain": "['one', 'two', 'three', '4', '5', 'six', '7']"
     },
     "metadata": {},
     "execution_count": 13
    }
   ],
   "source": [
    "mylist3"
   ]
  },
  {
   "cell_type": "code",
   "execution_count": 14,
   "metadata": {},
   "outputs": [
    {
     "output_type": "execute_result",
     "data": {
      "text/plain": "['one', 'two', 'three', '4', '5', 'six', '7', '8']"
     },
     "metadata": {},
     "execution_count": 14
    }
   ],
   "source": [
    "mylist3.append(\"8\")\n",
    "mylist3"
   ]
  },
  {
   "cell_type": "code",
   "execution_count": 15,
   "metadata": {},
   "outputs": [
    {
     "output_type": "execute_result",
     "data": {
      "text/plain": "['one', 'two', 'three', '4', '5', 'six', '7']"
     },
     "metadata": {},
     "execution_count": 15
    }
   ],
   "source": [
    "#remove items\n",
    "mylist3.pop() #Pop removes the last value by default\n",
    "mylist3"
   ]
  },
  {
   "cell_type": "code",
   "execution_count": 16,
   "metadata": {},
   "outputs": [
    {
     "output_type": "execute_result",
     "data": {
      "text/plain": "'one'"
     },
     "metadata": {},
     "execution_count": 16
    }
   ],
   "source": [
    "mylist3.pop(0)"
   ]
  },
  {
   "cell_type": "code",
   "execution_count": 19,
   "metadata": {},
   "outputs": [
    {
     "output_type": "execute_result",
     "data": {
      "text/plain": "['two', 'three', '4', '5', 'six', '7']"
     },
     "metadata": {},
     "execution_count": 19
    }
   ],
   "source": [
    "mylist3 #pop removes the item inplace and returns the index"
   ]
  },
  {
   "cell_type": "code",
   "execution_count": 21,
   "metadata": {},
   "outputs": [
    {
     "output_type": "execute_result",
     "data": {
      "text/plain": "['4', '5', '7', 'six', 'three', 'two']"
     },
     "metadata": {},
     "execution_count": 21
    }
   ],
   "source": [
    "#Sort values\n",
    "mylist3.sort() #It works completely inplace\n",
    "mylist3"
   ]
  },
  {
   "cell_type": "code",
   "execution_count": null,
   "metadata": {},
   "outputs": [],
   "source": [
    "#Reverse method. Also completely inplace"
   ]
  },
  {
   "cell_type": "code",
   "execution_count": 24,
   "metadata": {},
   "outputs": [
    {
     "output_type": "execute_result",
     "data": {
      "text/plain": "['two', 'three', 'six', '7', '5', '4']"
     },
     "metadata": {},
     "execution_count": 24
    }
   ],
   "source": [
    "mylist3.reverse()\n",
    "mylist3"
   ]
  },
  {
   "cell_type": "code",
   "execution_count": 25,
   "metadata": {},
   "outputs": [
    {
     "output_type": "execute_result",
     "data": {
      "text/plain": "['4', '5', '7', 'six', 'three', 'two']"
     },
     "metadata": {},
     "execution_count": 25
    }
   ],
   "source": [
    "mylist3.reverse()\n",
    "mylist3"
   ]
  },
  {
   "cell_type": "code",
   "execution_count": 26,
   "metadata": {},
   "outputs": [
    {
     "output_type": "execute_result",
     "data": {
      "text/plain": "['two', 'three', 'six', '7', '5', '4']"
     },
     "metadata": {},
     "execution_count": 26
    }
   ],
   "source": [
    "mylist3[::-1]"
   ]
  },
  {
   "cell_type": "code",
   "execution_count": 29,
   "metadata": {},
   "outputs": [],
   "source": [
    "#Duplicate the list\n",
    "mylist3 = mylist3 * 2"
   ]
  },
  {
   "cell_type": "code",
   "execution_count": 30,
   "metadata": {},
   "outputs": [
    {
     "output_type": "execute_result",
     "data": {
      "text/plain": "['4', '5', '7', 'six', 'three', 'two', '4', '5', '7', 'six', 'three', 'two']"
     },
     "metadata": {},
     "execution_count": 30
    }
   ],
   "source": [
    "mylist3"
   ]
  },
  {
   "cell_type": "code",
   "execution_count": 32,
   "metadata": {},
   "outputs": [
    {
     "output_type": "execute_result",
     "data": {
      "text/plain": "2"
     },
     "metadata": {},
     "execution_count": 32
    }
   ],
   "source": [
    "#Count specific value in list\n",
    "mylist3.count(\"three\")"
   ]
  },
  {
   "cell_type": "code",
   "execution_count": 33,
   "metadata": {},
   "outputs": [
    {
     "output_type": "execute_result",
     "data": {
      "text/plain": "4"
     },
     "metadata": {},
     "execution_count": 33
    }
   ],
   "source": [
    "#Index of the first occurence\n",
    "mylist3.index(\"three\")"
   ]
  },
  {
   "cell_type": "code",
   "execution_count": 34,
   "metadata": {},
   "outputs": [],
   "source": [
    "#Insert value at specific index\n",
    "mylist3.insert(4,8)"
   ]
  },
  {
   "cell_type": "code",
   "execution_count": 35,
   "metadata": {},
   "outputs": [
    {
     "output_type": "execute_result",
     "data": {
      "text/plain": "['4', '5', '7', 'six', 8, 'three', 'two', '4', '5', '7', 'six', 'three', 'two']"
     },
     "metadata": {},
     "execution_count": 35
    }
   ],
   "source": [
    "mylist3"
   ]
  },
  {
   "cell_type": "code",
   "execution_count": 36,
   "metadata": {},
   "outputs": [],
   "source": [
    "#Copy list\n",
    "mylist4 = mylist3.copy()"
   ]
  },
  {
   "cell_type": "code",
   "execution_count": 37,
   "metadata": {},
   "outputs": [],
   "source": [
    "#append lists element by element\n",
    "mylist4.extend(mylist3)"
   ]
  },
  {
   "cell_type": "code",
   "execution_count": 38,
   "metadata": {},
   "outputs": [
    {
     "output_type": "execute_result",
     "data": {
      "text/plain": "['4',\n '5',\n '7',\n 'six',\n 8,\n 'three',\n 'two',\n '4',\n '5',\n '7',\n 'six',\n 'three',\n 'two',\n '4',\n '5',\n '7',\n 'six',\n 8,\n 'three',\n 'two',\n '4',\n '5',\n '7',\n 'six',\n 'three',\n 'two']"
     },
     "metadata": {},
     "execution_count": 38
    }
   ],
   "source": [
    "mylist4"
   ]
  },
  {
   "cell_type": "markdown",
   "metadata": {},
   "source": [
    "## List comprehension"
   ]
  },
  {
   "cell_type": "code",
   "execution_count": 46,
   "metadata": {},
   "outputs": [
    {
     "output_type": "execute_result",
     "data": {
      "text/plain": "[4, 6]"
     },
     "metadata": {},
     "execution_count": 46
    }
   ],
   "source": [
    "lista1 = [1,2,3]\n",
    "lista2 = [4,5,6]\n",
    "\n",
    "lista3 = [x for x in lista2 if x%2==0]\n",
    "lista3"
   ]
  },
  {
   "cell_type": "code",
   "execution_count": 47,
   "metadata": {},
   "outputs": [
    {
     "output_type": "execute_result",
     "data": {
      "text/plain": "[4, 6]"
     },
     "metadata": {},
     "execution_count": 47
    }
   ],
   "source": [
    "#The comprehension replaces:\n",
    "lista3 = []\n",
    "for x in lista2:\n",
    "    if x%2==0:\n",
    "        lista3.append(x)\n",
    "lista3"
   ]
  },
  {
   "cell_type": "code",
   "execution_count": 52,
   "metadata": {},
   "outputs": [],
   "source": [
    "#List comprehension with else\n",
    "lista3 = [x if x%2==0 else \"No aplica\" for x in lista2 ]"
   ]
  },
  {
   "cell_type": "code",
   "execution_count": 53,
   "metadata": {},
   "outputs": [
    {
     "output_type": "execute_result",
     "data": {
      "text/plain": "[4, 'No aplica', 6]"
     },
     "metadata": {},
     "execution_count": 53
    }
   ],
   "source": [
    "lista3"
   ]
  }
 ],
 "metadata": {
  "language_info": {
   "codemirror_mode": {
    "name": "ipython",
    "version": 3
   },
   "file_extension": ".py",
   "mimetype": "text/x-python",
   "name": "python",
   "nbconvert_exporter": "python",
   "pygments_lexer": "ipython3",
   "version": "3.7.6-final"
  },
  "orig_nbformat": 2,
  "kernelspec": {
   "name": "python3",
   "display_name": "Python 3"
  }
 },
 "nbformat": 4,
 "nbformat_minor": 2
}