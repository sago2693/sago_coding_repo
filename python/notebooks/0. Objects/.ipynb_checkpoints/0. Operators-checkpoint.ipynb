{
 "cells": [
  {
   "cell_type": "markdown",
   "metadata": {},
   "source": [
    "## arithmetic operators"
   ]
  },
  {
   "cell_type": "code",
   "execution_count": 3,
   "metadata": {},
   "outputs": [
    {
     "name": "stdout",
     "output_type": "stream",
     "text": [
      "1\n",
      "2\n",
      "takes only the integer part of the division\n"
     ]
    }
   ],
   "source": [
    "#Floor division\n",
    "print(7//4)\n",
    "print(9//4)\n",
    "print(\"takes only the integer part of the division\")"
   ]
  },
  {
   "cell_type": "code",
   "execution_count": 7,
   "metadata": {},
   "outputs": [
    {
     "name": "stdout",
     "output_type": "stream",
     "text": [
      "3\n",
      "2\n"
     ]
    }
   ],
   "source": [
    "#Remainder/residuo\n",
    "print(7%4)\n",
    "print(12%5)"
   ]
  },
  {
   "cell_type": "code",
   "execution_count": 10,
   "metadata": {},
   "outputs": [
    {
     "name": "stdout",
     "output_type": "stream",
     "text": [
      "3 to the power of 2\n",
      "9\n",
      "Square root of 3\n",
      "3.0\n"
     ]
    }
   ],
   "source": [
    "#Power of and Square root\n",
    "print(\"3 to the power of 2\")\n",
    "print(3**2)\n",
    "print(\"Square root of 3\")\n",
    "print(9**0.5)"
   ]
  },
  {
   "cell_type": "markdown",
   "metadata": {},
   "source": [
    "## Comparison operators"
   ]
  },
  {
   "cell_type": "code",
   "execution_count": 11,
   "metadata": {},
   "outputs": [
    {
     "name": "stdout",
     "output_type": "stream",
     "text": [
      "True\n",
      "True\n",
      "False\n",
      "True\n"
     ]
    }
   ],
   "source": [
    "a = 5\n",
    "b = 2 \n",
    "\n",
    "print(a>b)\n",
    "print(b<a)\n",
    "print(a==b)\n",
    "print(a!=b)\n"
   ]
  },
  {
   "cell_type": "markdown",
   "metadata": {},
   "source": [
    "### Logical operators"
   ]
  },
  {
   "cell_type": "code",
   "execution_count": 18,
   "metadata": {},
   "outputs": [
    {
     "name": "stdout",
     "output_type": "stream",
     "text": [
      "True\n",
      "True\n",
      "False\n"
     ]
    }
   ],
   "source": [
    "a = 5\n",
    "b = 2\n",
    "\n",
    "print(a==5 and b==2)\n",
    "print(a==5 or b==1)\n",
    "print(not a==5)"
   ]
  },
  {
   "cell_type": "markdown",
   "metadata": {},
   "source": [
    "### Assignment operators"
   ]
  },
  {
   "cell_type": "code",
   "execution_count": 35,
   "metadata": {},
   "outputs": [
    {
     "name": "stdout",
     "output_type": "stream",
     "text": [
      "7\n",
      "5\n",
      "10\n",
      "5.0\n",
      "1.0\n",
      "5.0\n",
      "2.0\n",
      "4.0\n",
      "5.0\n"
     ]
    }
   ],
   "source": [
    "a = 5\n",
    "b = 2\n",
    "a+=b\n",
    "print(a)\n",
    "a -=b\n",
    "print (a)\n",
    "a*=b\n",
    "print(a)\n",
    "a/=b \n",
    "print (a)\n",
    "a%=b\n",
    "print(a)\n",
    "a+=2*b\n",
    "print(a)\n",
    "a//=b \n",
    "print(a)\n",
    "a**=b\n",
    "print(a)\n",
    "a+=1\n",
    "print(a)\n"
   ]
  },
  {
   "cell_type": "markdown",
   "metadata": {},
   "source": [
    "### Membership operations"
   ]
  },
  {
   "cell_type": "code",
   "execution_count": 40,
   "metadata": {},
   "outputs": [
    {
     "name": "stdout",
     "output_type": "stream",
     "text": [
      "True\n",
      "False\n",
      "True\n",
      "True\n",
      "False\n"
     ]
    }
   ],
   "source": [
    "x = \"Hello\"\n",
    "y = {1:x}\n",
    "print(\"H\" in x)\n",
    "print(\"h\" in x)\n",
    "print(\"h\" in x.lower())\n",
    "print (1 in y)\n",
    "print(x in y)"
   ]
  }
 ],
 "metadata": {
  "kernelspec": {
   "display_name": "Python 3",
   "language": "python",
   "name": "python3"
  },
  "language_info": {
   "codemirror_mode": {
    "name": "ipython",
    "version": 3
   },
   "file_extension": ".py",
   "mimetype": "text/x-python",
   "name": "python",
   "nbconvert_exporter": "python",
   "pygments_lexer": "ipython3",
   "version": "3.7.6"
  }
 },
 "nbformat": 4,
 "nbformat_minor": 4
}
