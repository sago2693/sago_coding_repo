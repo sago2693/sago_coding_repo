{
 "cells": [
  {
   "cell_type": "code",
   "execution_count": 1,
   "metadata": {},
   "outputs": [],
   "source": [
    "ds = {'Python','R','SQL','Git','Power BI','SAS'}\n",
    "de = {'Python','Java','Scala','Git','SQL','Hadoop'}"
   ]
  },
  {
   "cell_type": "code",
   "execution_count": 2,
   "metadata": {},
   "outputs": [
    {
     "output_type": "execute_result",
     "data": {
      "text/plain": "set"
     },
     "metadata": {},
     "execution_count": 2
    }
   ],
   "source": [
    "type(ds)"
   ]
  },
  {
   "cell_type": "code",
   "execution_count": 3,
   "metadata": {},
   "outputs": [
    {
     "output_type": "stream",
     "name": "stdout",
     "text": "<class 'set'>\n"
    }
   ],
   "source": [
    "#Create set from list\n",
    "ds = ['Python','R','SQL','Git','Power BI','SAS']\n",
    "ds = set(ds)\n",
    "print(type(ds))"
   ]
  },
  {
   "cell_type": "code",
   "execution_count": 4,
   "metadata": {},
   "outputs": [],
   "source": [
    "#Add element\n",
    "ds.add(\"Tableau\")"
   ]
  },
  {
   "cell_type": "code",
   "execution_count": 5,
   "metadata": {},
   "outputs": [
    {
     "output_type": "execute_result",
     "data": {
      "text/plain": "{'Git', 'Power BI', 'Python', 'R', 'SAS', 'SQL', 'Tableau'}"
     },
     "metadata": {},
     "execution_count": 5
    }
   ],
   "source": [
    "ds"
   ]
  },
  {
   "cell_type": "code",
   "execution_count": 6,
   "metadata": {},
   "outputs": [
    {
     "output_type": "execute_result",
     "data": {
      "text/plain": "{'Git', 'Power BI', 'Python', 'R', 'SAS', 'SQL', 'Tableau'}"
     },
     "metadata": {},
     "execution_count": 6
    }
   ],
   "source": [
    "#Clear elements\n",
    "df = ds.copy()\n",
    "df"
   ]
  },
  {
   "cell_type": "code",
   "execution_count": 7,
   "metadata": {},
   "outputs": [
    {
     "output_type": "execute_result",
     "data": {
      "text/plain": "set()"
     },
     "metadata": {},
     "execution_count": 7
    }
   ],
   "source": [
    "df.clear()\n",
    "df"
   ]
  },
  {
   "cell_type": "code",
   "execution_count": 8,
   "metadata": {},
   "outputs": [
    {
     "output_type": "execute_result",
     "data": {
      "text/plain": "{'Git', 'Power BI', 'Python', 'R', 'SAS', 'SQL', 'Tableau'}"
     },
     "metadata": {},
     "execution_count": 8
    }
   ],
   "source": [
    "# sets won't have repeated elements\n",
    "ds.add(\"Git\")\n",
    "ds #Neither will it raise an error"
   ]
  },
  {
   "cell_type": "code",
   "execution_count": 9,
   "metadata": {},
   "outputs": [
    {
     "output_type": "execute_result",
     "data": {
      "text/plain": "{'Power BI', 'R', 'SAS', 'Tableau'}"
     },
     "metadata": {},
     "execution_count": 9
    }
   ],
   "source": [
    "#Sets operations!\n",
    "ds.difference(de) #Elements found only in the first set\n"
   ]
  },
  {
   "cell_type": "code",
   "execution_count": 12,
   "metadata": {},
   "outputs": [
    {
     "output_type": "execute_result",
     "data": {
      "text/plain": "{'Power BI', 'R', 'SAS', 'Tableau'}"
     },
     "metadata": {},
     "execution_count": 12
    }
   ],
   "source": [
    "ds2 = ds.copy()\n",
    "ds2.difference_update(de)\n",
    "ds2 #Updates the first set deleting the intersection with the second set"
   ]
  },
  {
   "cell_type": "code",
   "execution_count": 15,
   "metadata": {},
   "outputs": [
    {
     "output_type": "execute_result",
     "data": {
      "text/plain": "{'R', 'SAS', 'Tableau'}"
     },
     "metadata": {},
     "execution_count": 15
    }
   ],
   "source": [
    "ds2.discard(\"Power BI\") #Deletes element if it exists in the set. Otherwise, nothing happens\n",
    "ds2"
   ]
  },
  {
   "cell_type": "code",
   "execution_count": 16,
   "metadata": {},
   "outputs": [
    {
     "output_type": "execute_result",
     "data": {
      "text/plain": "{'Git', 'Python', 'SQL'}"
     },
     "metadata": {},
     "execution_count": 16
    }
   ],
   "source": [
    "ds.intersection(de)"
   ]
  },
  {
   "cell_type": "code",
   "execution_count": 19,
   "metadata": {},
   "outputs": [
    {
     "output_type": "execute_result",
     "data": {
      "text/plain": "{'Git', 'Python', 'SQL'}"
     },
     "metadata": {},
     "execution_count": 19
    }
   ],
   "source": [
    "ds3=ds.copy()\n",
    "ds3.intersection_update(de) #Same as difference update but with intersection\n",
    "ds3"
   ]
  },
  {
   "cell_type": "code",
   "execution_count": 21,
   "metadata": {},
   "outputs": [
    {
     "output_type": "execute_result",
     "data": {
      "text/plain": "{'Git',\n 'Hadoop',\n 'Java',\n 'Power BI',\n 'Python',\n 'R',\n 'SAS',\n 'SQL',\n 'Scala',\n 'Tableau'}"
     },
     "metadata": {},
     "execution_count": 21
    }
   ],
   "source": [
    "ds.union(de) #Set union"
   ]
  },
  {
   "cell_type": "code",
   "execution_count": 24,
   "metadata": {},
   "outputs": [
    {
     "output_type": "execute_result",
     "data": {
      "text/plain": "{'Git',\n 'Hadoop',\n 'Java',\n 'Power BI',\n 'Python',\n 'R',\n 'SAS',\n 'SQL',\n 'Scala',\n 'Tableau'}"
     },
     "metadata": {},
     "execution_count": 24
    }
   ],
   "source": [
    "ds4 = ds.copy()\n",
    "ds4.update(de) #Same as difference update but with union\n",
    "ds4"
   ]
  },
  {
   "cell_type": "code",
   "execution_count": 27,
   "metadata": {},
   "outputs": [
    {
     "output_type": "execute_result",
     "data": {
      "text/plain": "{'Hadoop', 'Java', 'Power BI', 'R', 'SAS', 'Scala', 'Tableau'}"
     },
     "metadata": {},
     "execution_count": 27
    }
   ],
   "source": [
    "ds.symmetric_difference(de) #Returns union - intersection\n",
    "ds5 = ds.copy()\n",
    "ds5.symmetric_difference_update(de) #Updates\n",
    "ds5"
   ]
  },
  {
   "cell_type": "code",
   "execution_count": 35,
   "metadata": {},
   "outputs": [
    {
     "output_type": "stream",
     "name": "stdout",
     "text": "False\nTrue\nTrue\n"
    }
   ],
   "source": [
    "print(ds.isdisjoint(de)) #Return true if the intersection is empty\n",
    "print({\"Git\"}.issubset(de)) #Return true if the first set is subset of the second\n",
    "print(ds.issuperset({\"Git\"})) #REturns true if the first set is superset of the second"
   ]
  },
  {
   "cell_type": "code",
   "execution_count": 36,
   "metadata": {},
   "outputs": [
    {
     "output_type": "execute_result",
     "data": {
      "text/plain": "'Python'"
     },
     "metadata": {},
     "execution_count": 36
    }
   ],
   "source": [
    "ds.pop()#Pop removes a random element from the set!"
   ]
  },
  {
   "cell_type": "code",
   "execution_count": 38,
   "metadata": {},
   "outputs": [
    {
     "output_type": "error",
     "ename": "KeyError",
     "evalue": "'Python'",
     "traceback": [
      "\u001b[1;31m---------------------------------------------------------------------------\u001b[0m",
      "\u001b[1;31mKeyError\u001b[0m                                  Traceback (most recent call last)",
      "\u001b[1;32m<ipython-input-38-9472ede01b6f>\u001b[0m in \u001b[0;36m<module>\u001b[1;34m\u001b[0m\n\u001b[1;32m----> 1\u001b[1;33m \u001b[0mds\u001b[0m\u001b[1;33m.\u001b[0m\u001b[0mremove\u001b[0m\u001b[1;33m(\u001b[0m\u001b[1;34m\"Python\"\u001b[0m\u001b[1;33m)\u001b[0m\u001b[1;33m\u001b[0m\u001b[1;33m\u001b[0m\u001b[0m\n\u001b[0m",
      "\u001b[1;31mKeyError\u001b[0m: 'Python'"
     ]
    }
   ],
   "source": [
    "ds.remove(\"Python\") #Remove removes the item if it is in the list! otherwise, an error is shown"
   ]
  }
 ],
 "metadata": {
  "language_info": {
   "codemirror_mode": {
    "name": "ipython",
    "version": 3
   },
   "file_extension": ".py",
   "mimetype": "text/x-python",
   "name": "python",
   "nbconvert_exporter": "python",
   "pygments_lexer": "ipython3",
   "version": "3.7.6-final"
  },
  "orig_nbformat": 2,
  "kernelspec": {
   "name": "python3",
   "display_name": "Python 3"
  }
 },
 "nbformat": 4,
 "nbformat_minor": 2
}